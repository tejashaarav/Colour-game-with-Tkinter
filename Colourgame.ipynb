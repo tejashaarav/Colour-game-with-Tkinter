{
 "cells": [
  {
   "cell_type": "code",
   "execution_count": 1,
   "id": "c79302c1",
   "metadata": {},
   "outputs": [],
   "source": [
    "import tkinter\n",
    "import random\n",
    "  "
   ]
  },
  {
   "cell_type": "code",
   "execution_count": 2,
   "id": "8d2198c7",
   "metadata": {},
   "outputs": [],
   "source": [
    "colours = ['Red','Green','Pink','Black','White','Yellow','Orange','Purple','Brown','Blue']"
   ]
  },
  {
   "cell_type": "code",
   "execution_count": 3,
   "id": "e1d0cb6f",
   "metadata": {},
   "outputs": [],
   "source": [
    "score = 0"
   ]
  },
  {
   "cell_type": "code",
   "execution_count": 61,
   "id": "ed996b79",
   "metadata": {},
   "outputs": [],
   "source": [
    "timeleft = 60"
   ]
  },
  {
   "cell_type": "code",
   "execution_count": 62,
   "id": "830b63e8",
   "metadata": {},
   "outputs": [],
   "source": [
    "def startGame(event):\n",
    "      \n",
    "    if timeleft == 60:\n",
    "        countdown()\n",
    "    nextColour()"
   ]
  },
  {
   "cell_type": "code",
   "execution_count": 63,
   "id": "48914a69",
   "metadata": {},
   "outputs": [],
   "source": [
    "def nextColour():\n",
    "    global score\n",
    "    global timeleft\n",
    "    if timeleft > 0:\n",
    "        e.focus_set()\n",
    "        if e.get().lower() == colours[1].lower():\n",
    "            score += 1\n",
    "        e.delete(0, tkinter.END)\n",
    "        random.shuffle(colours)\n",
    "        label.config(fg = str(colours[1]), text = str(colours[0]))\n",
    "        scoreLabel.config(text = \"Your Score: \" + str(score))\n",
    "        "
   ]
  },
  {
   "cell_type": "code",
   "execution_count": 64,
   "id": "2a1d3686",
   "metadata": {},
   "outputs": [],
   "source": [
    "def countdown():\n",
    "  \n",
    "    global timeleft\n",
    "    if timeleft > 0:\n",
    "        timeleft -= 1\n",
    "        timeLabel.config(text = \"Time left: \"\n",
    "                               + str(timeleft))\n",
    "        timeLabel.after(1000, countdown)"
   ]
  },
  {
   "cell_type": "code",
   "execution_count": 65,
   "id": "eae6271a",
   "metadata": {},
   "outputs": [],
   "source": [
    "root = tkinter.Tk()"
   ]
  },
  {
   "cell_type": "code",
   "execution_count": 66,
   "id": "d148b550",
   "metadata": {},
   "outputs": [
    {
     "data": {
      "text/plain": [
       "''"
      ]
     },
     "execution_count": 66,
     "metadata": {},
     "output_type": "execute_result"
    }
   ],
   "source": [
    "root.title(\"COLORGAME\")"
   ]
  },
  {
   "cell_type": "code",
   "execution_count": 67,
   "id": "6529f74b",
   "metadata": {},
   "outputs": [
    {
     "data": {
      "text/plain": [
       "''"
      ]
     },
     "execution_count": 67,
     "metadata": {},
     "output_type": "execute_result"
    }
   ],
   "source": [
    "root.geometry(\"375x200\")"
   ]
  },
  {
   "cell_type": "code",
   "execution_count": 68,
   "id": "073e514f",
   "metadata": {},
   "outputs": [],
   "source": [
    "instructions = tkinter.Label(root, text = \"Type in the colour\"\n",
    "                        \"of the words, and not the word text\",\n",
    "                                      font = ('Helvetica', 12))\n",
    "instructions.pack() "
   ]
  },
  {
   "cell_type": "code",
   "execution_count": 69,
   "id": "332df8c3",
   "metadata": {},
   "outputs": [],
   "source": [
    "scoreLabel = tkinter.Label(root, text = \"Press enter to start\",\n",
    "                                      font = ('Helvetica', 12))\n",
    "scoreLabel.pack()"
   ]
  },
  {
   "cell_type": "code",
   "execution_count": 70,
   "id": "5148e7ff",
   "metadata": {},
   "outputs": [],
   "source": [
    "timeLabel = tkinter.Label(root, text = \"Time left: \" +\n",
    "              str(timeleft), font = ('Helvetica', 12))\n",
    "                \n",
    "timeLabel.pack()"
   ]
  },
  {
   "cell_type": "code",
   "execution_count": 71,
   "id": "1fe831fe",
   "metadata": {},
   "outputs": [],
   "source": [
    "label = tkinter.Label(root, font = ('Helvetica', 60))\n",
    "label.pack()"
   ]
  },
  {
   "cell_type": "code",
   "execution_count": 72,
   "id": "53e712f2",
   "metadata": {},
   "outputs": [],
   "source": [
    "e = tkinter.Entry(root)"
   ]
  },
  {
   "cell_type": "code",
   "execution_count": 73,
   "id": "9591b504",
   "metadata": {},
   "outputs": [],
   "source": [
    "root.bind('<Return>', startGame)\n",
    "e.pack()"
   ]
  },
  {
   "cell_type": "code",
   "execution_count": 74,
   "id": "85a57d70",
   "metadata": {},
   "outputs": [],
   "source": [
    "e.focus_set()"
   ]
  },
  {
   "cell_type": "code",
   "execution_count": 75,
   "id": "868b599b",
   "metadata": {},
   "outputs": [],
   "source": [
    "root.mainloop()"
   ]
  },
  {
   "cell_type": "code",
   "execution_count": null,
   "id": "bdeadd76",
   "metadata": {},
   "outputs": [],
   "source": []
  },
  {
   "cell_type": "code",
   "execution_count": null,
   "id": "004f8030",
   "metadata": {},
   "outputs": [],
   "source": []
  },
  {
   "cell_type": "code",
   "execution_count": null,
   "id": "3be4bc37",
   "metadata": {},
   "outputs": [],
   "source": []
  },
  {
   "cell_type": "code",
   "execution_count": null,
   "id": "6b36b884",
   "metadata": {},
   "outputs": [],
   "source": []
  },
  {
   "cell_type": "code",
   "execution_count": null,
   "id": "46a3758a",
   "metadata": {},
   "outputs": [],
   "source": []
  },
  {
   "cell_type": "code",
   "execution_count": null,
   "id": "45c07d32",
   "metadata": {},
   "outputs": [],
   "source": []
  }
 ],
 "metadata": {
  "kernelspec": {
   "display_name": "Python 3",
   "language": "python",
   "name": "python3"
  },
  "language_info": {
   "codemirror_mode": {
    "name": "ipython",
    "version": 3
   },
   "file_extension": ".py",
   "mimetype": "text/x-python",
   "name": "python",
   "nbconvert_exporter": "python",
   "pygments_lexer": "ipython3",
   "version": "3.8.8"
  }
 },
 "nbformat": 4,
 "nbformat_minor": 5
}
